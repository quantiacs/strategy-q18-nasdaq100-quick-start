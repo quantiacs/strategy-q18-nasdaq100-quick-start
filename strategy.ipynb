{
 "cells": [
  {
   "cell_type": "markdown",
   "metadata": {
    "pycharm": {
     "name": "#%% md\n"
    }
   },
   "source": [
    "# Q18 Quick Start\n",
    "\n",
    "This template shows you the basic steps for taking part to the **Q18 NASDAQ-100 Stock Long-Short contest**."
   ]
  },
  {
   "cell_type": "code",
   "execution_count": null,
   "metadata": {
    "pycharm": {
     "name": "#%%\n",
     "is_executing": true
    }
   },
   "outputs": [],
   "source": [
    "import xarray as xr\n",
    "\n",
    "import qnt.ta as qnta\n",
    "import qnt.data as qndata\n",
    "import qnt.output as qnout\n",
    "import qnt.stats as qns\n",
    "\n",
    "data = qndata.stocks.load_ndx_data(min_date=\"2005-06-01\")\n",
    "\n",
    "close     = data.sel(field=\"close\")\n",
    "is_liquid = data.sel(field=\"is_liquid\")\n",
    "sma_slow  = qnta.sma(close, 200)\n",
    "sma_fast  = qnta.sma(close, 20)\n",
    "weights   = xr.where(sma_slow < sma_fast, 1, -1)\n",
    "weights   = weights * is_liquid\n",
    "\n",
    "weights = qnout.clean(weights, data, \"stocks_nasdaq100\")\n",
    "\n",
    "# calc stats\n",
    "stats = qns.calc_stat(data, weights.sel(time=slice(\"2006-01-01\", None)))\n",
    "display(stats.to_pandas().tail())\n",
    "\n",
    "# graph\n",
    "performance = stats.to_pandas()[\"equity\"]\n",
    "import qnt.graph as qngraph\n",
    "\n",
    "qngraph.make_plot_filled(performance.index, performance, name=\"PnL (Equity)\", type=\"log\")"
   ]
  },
  {
   "cell_type": "code",
   "execution_count": null,
   "outputs": [],
   "source": [
    "weights = weights.sel(time=slice(\"2006-01-01\",None))\n",
    "\n",
    "qnout.check(weights, data, \"stocks_nasdaq100\")\n",
    "qnout.write(weights) # to participate in the competition"
   ],
   "metadata": {
    "collapsed": false,
    "pycharm": {
     "name": "#%%\n"
    }
   }
  },
  {
   "cell_type": "markdown",
   "metadata": {
    "pycharm": {
     "name": "#%% md\n"
    }
   },
   "source": [
    "# Description\n",
    "\n",
    "## 1. Data\n",
    "\n",
    "![data_example](./img/data.jpg)\n",
    "\n",
    "The variable **qndata.stocks.load_ndx_data(tail=period)** is an xarray.DataArray structure which contains historical market data for the last (tail=period) days and whose coordinates are:\n",
    "\n",
    "* **time**: a date in format yyyy-mm-dd;\n",
    "* **field**: an attribute, for example the opening daily price;\n",
    "* **asset**: the identifying symbol for the asset, for example NAS:APPL for Apple.\n",
    "\n",
    "More details on xarray can be found at https://xarray.pydata.org/en/stable/.\n",
    "\n",
    "## 2. Strategy. Weights allocation\n",
    "\n",
    "\n",
    "![weights_example](./img/weights.jpg)\n",
    "\n",
    "For each date, the algorithm calculates the portfolio weights which should be used at the opening of the next day's trading.\n",
    "\n",
    "Quantiacs uses an exposure-based backtester. The trading algorithm should define the fractions of capital which will be distributed to the assets (allocation weights). A **positive** weight means a long position (**buy**), a **negative** value means a short position (**sell**).\n",
    "\n",
    "> Note that algorithm decisions can use all data available at the close of the session, and will be applied at the opening of the next day's session. The chosen allocation weights are translated to positions (number of contracts to be bought/sold) immediately after the close of the session and transactions are executed at the open of the next day.\n",
    "\n",
    "\n",
    "## 3. Performance estimation\n",
    "\n",
    "![statistic_example](./img/statistic.png)\n",
    "\n",
    "After we have built the algorithm, we can evaluate its performance calculating statistics.\n",
    "\n",
    "We can display the values of statistical indicators on a cumulative basis, assuming that we have 1M USD at the starting point.\n",
    "\n",
    "The call will produce:\n",
    "\n",
    "* **equity**: the cumulative value of profits and losses since inception (1M USD);\n",
    "* **relative_return**: the relative daily variation of **equity**;\n",
    "* **volatility**: the volatility of the investment since inception (i.e. the annualized standard deviation of the daily returns);\n",
    "* **underwater**: the time evolution of drawdowns;\n",
    "* **max_drawdown**: the absolute minimum of the underwater chart;\n",
    "* **sharpe_ratio**: the annualized Sharpe ratio since inception; the value must be larger than 1 for taking part to contests;\n",
    "* **mean_return**: the annualized mean return of the investment since inception;\n",
    "* **bias**: the daily asymmetry between long and short exposure: 1 for a long-only system, -1 for a short-only one;\n",
    "* **instruments**: the number of instruments which get allocations on a given day;\n",
    "* **avg_turnover**: the average turnover;\n",
    "* **avg_holding_time**: the average holding time in days.\n",
    "\n",
    "A detailed explanation can be found inspecting the source code for the library in your directory at **/qnt/stats.py**\n",
    "\n",
    "Moreover we can produce a chart which shows the cumulative profits and losses."
   ]
  },
  {
   "cell_type": "markdown",
   "metadata": {
    "pycharm": {
     "name": "#%% md\n"
    }
   },
   "source": [
    "# Alternative way of writing strategies\n",
    "\n",
    "A quick prototpye can be written using a single-pass implementation where all the time series are processed at once. Beware that unintentional forward looking can take place!\n",
    "\n",
    "> If strategy sharpe coefficient in the competition differs from the sharpe coefficient in jupyter, rewrite the strategy for Multi-Pass\n",
    "\n",
    "<br>\n",
    "\n",
    "\n",
    "<table style=\"text-align: left ; font-size: 1em ; min-width: 1000px\">\n",
    "<tbody><tr>\n",
    "<td style=\"text-align: left\"> Single-pass (quick check of the result)</td> <td style=\"text-align: left\"> Multi-Pass equivalent</td>\n",
    "</tr>\n",
    "<tr>\n",
    "<td style=\"text-align: left ; min-width: 500px\">\n",
    "\n",
    "<pre><code class=\"cm-s-ipython language-python\"><span style=\" color: #008000;  font-weight: bold;\">import</span> <span class=\"cm-variable\">xarray</span> <span style=\" color: #008000;  font-weight: bold;\">as</span> <span class=\"cm-variable\">xr</span>\n",
    "\n",
    "<span style=\" color: #008000;  font-weight: bold;\">import</span> <span class=\"cm-variable\">qnt</span>.<span class=\"cm-property\">ta</span> <span style=\" color: #008000;  font-weight: bold;\">as</span> <span class=\"cm-variable\">qnta</span>\n",
    "<span style=\" color: #008000;  font-weight: bold;\">import</span> <span class=\"cm-variable\">qnt</span>.<span class=\"cm-property\">data</span> <span style=\" color: #008000;  font-weight: bold;\">as</span> <span class=\"cm-variable\">qndata</span>\n",
    "<span style=\" color: #008000;  font-weight: bold;\">import</span> <span class=\"cm-variable\">qnt</span>.<span class=\"cm-property\">output</span> <span style=\" color: #008000;  font-weight: bold;\">as</span> <span class=\"cm-variable\">qnout</span>\n",
    "<span style=\" color: #008000;  font-weight: bold;\">import</span> <span class=\"cm-variable\">qnt</span>.<span class=\"cm-property\">stats</span> <span style=\" color: #008000;  font-weight: bold;\">as</span> <span class=\"cm-variable\">qns</span>\n",
    "\n",
    "<span class=\"cm-variable\">data</span> <span class=\"cm-operator\">=</span> <span class=\"cm-variable\">qndata</span>.<span class=\"cm-property\">stocks</span>.<span class=\"cm-property\">load_ndx_data</span>(<span class=\"cm-variable\">min_date</span><span class=\"cm-operator\">=</span><span style=\" color: #BA2121;\">\"2006-01-01\"</span>)\n",
    "\n",
    "<span class=\"cm-variable\">close</span>     <span class=\"cm-operator\">=</span> <span class=\"cm-variable\">data</span>.<span class=\"cm-property\">sel</span>(<span class=\"cm-variable\">field</span><span class=\"cm-operator\">=</span><span style=\" color: #BA2121;\">\"close\"</span>)\n",
    "<span class=\"cm-variable\">is_liquid</span> <span class=\"cm-operator\">=</span> <span class=\"cm-variable\">data</span>.<span class=\"cm-property\">sel</span>(<span class=\"cm-variable\">field</span><span class=\"cm-operator\">=</span><span style=\" color: #BA2121;\">\"is_liquid\"</span>)\n",
    "<span class=\"cm-variable\">sma_slow</span>  <span class=\"cm-operator\">=</span> <span class=\"cm-variable\">qnta</span>.<span class=\"cm-property\">sma</span>(<span class=\"cm-variable\">close</span>, <span style=\" color: #080;\">200</span>)\n",
    "<span class=\"cm-variable\">sma_fast</span>  <span class=\"cm-operator\">=</span> <span class=\"cm-variable\">qnta</span>.<span class=\"cm-property\">sma</span>(<span class=\"cm-variable\">close</span>, <span style=\" color: #080;\">20</span>)\n",
    "<span class=\"cm-variable\">weights</span>   <span class=\"cm-operator\">=</span> <span class=\"cm-variable\">xr</span>.<span class=\"cm-property\">where</span>(<span class=\"cm-variable\">sma_slow</span> <span class=\"cm-operator\">&lt;</span> <span class=\"cm-variable\">sma_fast</span>, <span style=\" color: #080;\">1</span>, <span class=\"cm-operator\">-</span><span style=\" color: #080;\">1</span>)\n",
    "<span class=\"cm-variable\">weights</span>   <span class=\"cm-operator\">=</span> <span class=\"cm-variable\">weights</span> <span class=\"cm-operator\">*</span> <span class=\"cm-variable\">is_liquid</span>\n",
    "\n",
    "<span class=\"cm-variable\">weights</span> <span class=\"cm-operator\">=</span> <span class=\"cm-variable\">qnout</span>.<span class=\"cm-property\">clean</span>(<span class=\"cm-variable\">weights</span>, <span class=\"cm-variable\">data</span>, <span style=\" color: #BA2121;\">\"stocks_nasdaq100\"</span>)\n",
    "\n",
    "<span class=\"cm-variable\">qnout</span>.<span class=\"cm-property\">check</span>(<span class=\"cm-variable\">weights</span>, <span class=\"cm-variable\">data</span>, <span style=\" color: #BA2121;\">\"stocks_nasdaq100\"</span>)\n",
    "\n",
    "<span class=\"cm-variable\">qnout</span>.<span class=\"cm-property\">write</span>(<span class=\"cm-variable\">weights</span>)\n",
    "\n",
    "<span class=\"cm-comment\"># calc stats</span>\n",
    "<span class=\"cm-variable\">stats</span> <span class=\"cm-operator\">=</span> <span class=\"cm-variable\">qns</span>.<span class=\"cm-property\">calc_stat</span>(<span class=\"cm-variable\">data</span>, <span class=\"cm-variable\">weights</span>.<span class=\"cm-property\">sel</span>(<span class=\"cm-variable\">time</span><span class=\"cm-operator\">=</span><span class=\"cm-builtin\">slice</span>(<span style=\" color: #BA2121;\">\"2006-01-01\"</span>,<span style=\" color: #008000;  font-weight: bold;\">None</span>)))\n",
    "<span class=\"cm-variable\">stats</span>.<span class=\"cm-property\">to_pandas</span>().<span class=\"cm-property\">tail</span>()</code></pre>\n",
    "</td>\n",
    "<td style=\"text-align: left ; min-width: 500px\">\n",
    "\n",
    "<pre><code class=\"cm-s-ipython language-python\"><span style=\" color: #008000;  font-weight: bold;\">import</span> <span class=\"cm-variable\">xarray</span> <span style=\" color: #008000;  font-weight: bold;\">as</span> <span class=\"cm-variable\">xr</span>\n",
    "\n",
    "<span style=\" color: #008000;  font-weight: bold;\">import</span> <span class=\"cm-variable\">qnt</span>.<span class=\"cm-property\">ta</span> <span style=\" color: #008000;  font-weight: bold;\">as</span> <span class=\"cm-variable\">qnta</span>\n",
    "<span style=\" color: #008000;  font-weight: bold;\">import</span> <span class=\"cm-variable\">qnt</span>.<span class=\"cm-property\">backtester</span> <span style=\" color: #008000;  font-weight: bold;\">as</span> <span class=\"cm-variable\">qnbt</span>\n",
    "<span style=\" color: #008000;  font-weight: bold;\">import</span> <span class=\"cm-variable\">qnt</span>.<span class=\"cm-property\">data</span> <span style=\" color: #008000;  font-weight: bold;\">as</span> <span class=\"cm-variable\">qndata</span>\n",
    "\n",
    "\n",
    "\n",
    "<span style=\" color: #008000;  font-weight: bold;\">def</span> <span style=\" color:  #00f;\">load_data</span>(<span class=\"cm-variable\">period</span>):\n",
    "    <span style=\" color: #008000;  font-weight: bold;\">return</span> <span class=\"cm-variable\">qndata</span>.<span class=\"cm-property\">stocks</span>.<span class=\"cm-property\">load_ndx_data</span>(<span class=\"cm-variable\">tail</span><span class=\"cm-operator\">=</span><span class=\"cm-variable\">period</span>)\n",
    "\n",
    "\n",
    "\n",
    "<span style=\" color: #008000;  font-weight: bold;\">def</span> <span style=\" color:  #00f;\">strategy</span>(<span class=\"cm-variable\">data</span>):\n",
    "    <span class=\"cm-variable\">close</span>     <span class=\"cm-operator\">=</span> <span class=\"cm-variable\">data</span>.<span class=\"cm-property\">sel</span>(<span class=\"cm-variable\">field</span><span class=\"cm-operator\">=</span><span style=\" color: #BA2121;\">\"close\"</span>)\n",
    "    <span class=\"cm-variable\">is_liquid</span> <span class=\"cm-operator\">=</span> <span class=\"cm-variable\">data</span>.<span class=\"cm-property\">sel</span>(<span class=\"cm-variable\">field</span><span class=\"cm-operator\">=</span><span style=\" color: #BA2121;\">\"is_liquid\"</span>)\n",
    "    <span class=\"cm-variable\">sma_slow</span>  <span class=\"cm-operator\">=</span> <span class=\"cm-variable\">qnta</span>.<span class=\"cm-property\">sma</span>(<span class=\"cm-variable\">close</span>, <span style=\" color: #080;\">200</span>).<span class=\"cm-property\">isel</span>(<span class=\"cm-variable\">time</span><span class=\"cm-operator\">=</span><span class=\"cm-operator\">-</span><span style=\" color: #080;\">1</span>)\n",
    "    <span class=\"cm-variable\">sma_fast</span>  <span class=\"cm-operator\">=</span> <span class=\"cm-variable\">qnta</span>.<span class=\"cm-property\">sma</span>(<span class=\"cm-variable\">close</span>, <span style=\" color: #080;\">20</span>).<span class=\"cm-property\">isel</span>(<span class=\"cm-variable\">time</span><span class=\"cm-operator\">=</span><span class=\"cm-operator\">-</span><span style=\" color: #080;\">1</span>)\n",
    "    <span class=\"cm-variable\">weights</span>   <span class=\"cm-operator\">=</span> <span class=\"cm-variable\">xr</span>.<span class=\"cm-property\">where</span>(<span class=\"cm-variable\">sma_slow</span> <span class=\"cm-operator\">&lt;</span> <span class=\"cm-variable\">sma_fast</span>, <span style=\" color: #080;\">1</span>, <span class=\"cm-operator\">-</span><span style=\" color: #080;\">1</span>)\n",
    "    <span class=\"cm-variable\">weights</span>   <span class=\"cm-operator\">=</span> <span class=\"cm-variable\">weights</span> <span class=\"cm-operator\">*</span> <span class=\"cm-variable\">is_liquid</span>\n",
    "    <span style=\" color: #008000;  font-weight: bold;\">return</span> <span class=\"cm-variable\">weights</span>\n",
    "\n",
    "\n",
    "\n",
    "<span class=\"cm-variable\">weights</span> <span class=\"cm-operator\">=</span> <span class=\"cm-variable\">qnbt</span>.<span class=\"cm-property\">backtest</span>(\n",
    "    <span class=\"cm-variable\">competition_type</span> <span class=\"cm-operator\">=</span> <span style=\" color: #BA2121;\">\"stocks_nasdaq100\"</span>,\n",
    "    <span class=\"cm-variable\">load_data</span>        <span class=\"cm-operator\">=</span> <span class=\"cm-variable\">load_data</span>,\n",
    "    <span class=\"cm-variable\">lookback_period</span>  <span class=\"cm-operator\">=</span> <span style=\" color: #080;\">365</span><span class=\"cm-operator\">*</span><span style=\" color: #080;\">4</span>,\n",
    "    <span class=\"cm-variable\">start_date</span>       <span class=\"cm-operator\">=</span> <span style=\" color: #BA2121;\">\"2006-01-01\"</span>,\n",
    "    <span class=\"cm-variable\">strategy</span>         <span class=\"cm-operator\">=</span> <span class=\"cm-variable\">strategy</span>,\n",
    "    <span class=\"cm-variable\">analyze</span>          <span class=\"cm-operator\">=</span> <span style=\" color: #008000;  font-weight: bold;\">True</span>,\n",
    "    <span class=\"cm-variable\">build_plots</span>      <span class=\"cm-operator\">=</span> <span style=\" color: #008000;  font-weight: bold;\">True</span>\n",
    ")</code></pre>\n",
    "</td>\n",
    "</tr>\n",
    "</tbody></table>"
   ]
  },
  {
   "cell_type": "markdown",
   "source": [
    "# Example of a strategy using technical analysis indicators\n",
    "\n",
    "The example of a strategy with a sharpe ratio of 0.9615 trading 215 financial instruments\n",
    "\n",
    "The strategy use sma, ema, adl (Advance–Decline line)\n",
    "\n",
    "\n",
    "\n",
    "\n",
    "```python\n",
    "from IPython.display import display\n",
    "import xarray as xr\n",
    "import qnt.data as qndata\n",
    "import qnt.output as qnout\n",
    "import qnt.ta as qnta\n",
    "import qnt.stats as qns\n",
    "\n",
    "data = qndata.stocks.load_ndx_data(min_date=\"2005-01-01\")\n",
    "\n",
    "\n",
    "def get_strategy_1(data, params):\n",
    "    buy = 1\n",
    "    not_trade = 0\n",
    "    close = data.sel(field=\"close\")\n",
    "\n",
    "    strategy_1 = xr.where(qnta.sma(close, params[1]) > qnta.sma(close, params[0]), buy, not_trade)\n",
    "    strategy_2 = xr.where(qnta.ema(close, params[2]) > qnta.ema(close, params[3]), buy, not_trade)\n",
    "\n",
    "    weights = strategy_1 * strategy_2 * data.sel(field=\"is_liquid\")\n",
    "    weights = weights / 100.0\n",
    "    return weights.fillna(0)\n",
    "\n",
    "\n",
    "def get_strategy_2(data, params):\n",
    "    buy = 1\n",
    "    not_trade = 0\n",
    "    close = data.sel(field=\"close\") * data.sel(field=\"is_liquid\")\n",
    "\n",
    "    adl = qnta.ad_line(close) * 1.0\n",
    "    adl_dif = adl.shift(time=params[0]) - adl.shift(time=params[1])\n",
    "    positive_trend = adl_dif > 0\n",
    "    strategy_1 = xr.where(positive_trend, buy, not_trade)\n",
    "\n",
    "    weights = strategy_1 * data.sel(field=\"is_liquid\")\n",
    "    return weights.fillna(0)\n",
    "\n",
    "\n",
    "weights_1 = get_strategy_1(data, [25, 40, 12, 132])  # 0.6108887689714039 Sharpe Ratio\n",
    "weights_2 = get_strategy_2(data, [34, 183])  # 0.6012686822757577\n",
    "\n",
    "weights_all = 2 * weights_1 * weights_2 - weights_1\n",
    "weights = qnout.clean(output=weights_all, data=data, kind=\"stocks_nasdaq100\")  # 0.9615\n",
    "\n",
    "qnout.check(weights, data, \"stocks_nasdaq100\")\n",
    "qnout.write(weights)\n",
    "```"
   ],
   "metadata": {
    "collapsed": false,
    "pycharm": {
     "name": "#%% md\n"
    }
   }
  },
  {
   "cell_type": "markdown",
   "metadata": {
    "pycharm": {
     "name": "#%% md\n"
    }
   },
   "source": [
    "# What libraries are available?\n",
    "\n",
    "```python\n",
    "# Import basic libraries.\n",
    "import xarray as xr\n",
    "import pandas as pd\n",
    "import numpy as np\n",
    "\n",
    "# Import quantnet libraries.\n",
    "import qnt.data    as qndata  # load and manipulate data\n",
    "import qnt.output as output   # manage output\n",
    "import qnt.backtester as qnbt # backtester\n",
    "import qnt.stats   as qnstats # statistical functions for analysis\n",
    "import qnt.graph   as qngraph # graphical tools\n",
    "import qnt.ta      as qnta    # indicators library\n",
    "```"
   ]
  },
  {
   "cell_type": "markdown",
   "metadata": {
    "pycharm": {
     "name": "#%% md\n"
    }
   },
   "source": [
    "# May I import libraries?\n",
    "\n",
    "Yes, please refer to the file **init.ipynb** in your home directory. You can for example use:\n",
    "\n",
    "```\n",
    "! conda install -y scikit-learn\n",
    "```"
   ]
  },
  {
   "cell_type": "markdown",
   "metadata": {
    "pycharm": {
     "name": "#%% md\n"
    }
   },
   "source": [
    "# How to load data?\n",
    "\n",
    "Daily stock data for the **Q18 Nasdaq-100** contest can be loaded using:\n",
    "```python\n",
    "data = qndata.stocks.load_ndx_data(tail = 17*365, dims = (\"time\", \"field\", \"asset\"))\n",
    "```\n",
    "\n",
    "Cryptocurrency daily data used for the Q16/Q17 contests can be loaded using:\n",
    "```python\n",
    "data = qndata.cryptodaily.load_data(tail = 17*365, dims = (\"time\", \"field\", \"asset\"))\n",
    "```\n",
    "\n",
    "Futures data for the Q15 contest can be loaded using:\n",
    "```python\n",
    "data= qndata.futures.load_data(tail = 17*365, dims = (\"time\", \"field\", \"asset\"))\n",
    "```\n",
    "\n",
    "BTC Futures data for the Q15 contest can be loaded using:\n",
    "```python\n",
    "data= qndata.cryptofutures.load_data(tail = 17*365, dims = (\"time\", \"field\", \"asset\"))\n",
    "```"
   ]
  },
  {
   "cell_type": "markdown",
   "metadata": {
    "pycharm": {
     "name": "#%% md\n"
    }
   },
   "source": [
    "# How to view a list of all tickers?\n",
    "\n",
    "```python\n",
    "data.asset.to_pandas().to_list()\n",
    "```"
   ]
  },
  {
   "cell_type": "markdown",
   "metadata": {
    "pycharm": {
     "name": "#%% md\n"
    }
   },
   "source": [
    "# How to see which fields are available?\n",
    "\n",
    "```python\n",
    "data.field.to_pandas().to_list()\n",
    "```"
   ]
  },
  {
   "cell_type": "markdown",
   "metadata": {
    "pycharm": {
     "name": "#%% md\n"
    }
   },
   "source": [
    "# How to load specific tickers?\n",
    "\n",
    "```python\n",
    "data = qndata.stocks.load_ndx_data(tail=17 * 365, assets=[\"NAS:AAPL\", \"NAS:AMZN\"])\n",
    "```"
   ]
  },
  {
   "cell_type": "markdown",
   "metadata": {
    "pycharm": {
     "name": "#%% md\n"
    }
   },
   "source": [
    "# How to select specific tickers after loading all data?\n",
    "\n",
    "```python\n",
    "def get_data_filter(data, assets):\n",
    "    filler= data.sel(asset=assets)\n",
    "    return filler\n",
    "\n",
    "get_data_filter(data, [\"NAS:AAPL\", \"NAS:AMZN\"])\n",
    "```"
   ]
  },
  {
   "cell_type": "markdown",
   "metadata": {
    "pycharm": {
     "name": "#%% md\n"
    }
   },
   "source": [
    "# How to get the prices for the previous day?\n",
    "\n",
    "```python\n",
    "qnta.shift(data.sel(field=\"open\"), periods=1)\n",
    "```\n",
    "\n",
    "or:\n",
    "\n",
    "```python\n",
    "data.sel(field=\"open\").shift(time=1)\n",
    "```"
   ]
  },
  {
   "cell_type": "markdown",
   "metadata": {
    "pycharm": {
     "name": "#%% md\n"
    }
   },
   "source": [
    "# How to get the Sharpe ratio?\n",
    "\n",
    "```python\n",
    "import qnt.stats as qnstats\n",
    "\n",
    "def get_sharpe(market_data, weights):\n",
    "    rr = qnstats.calc_relative_return(market_data, weights)\n",
    "    sharpe = qnstats.calc_sharpe_ratio_annualized(rr).values[-1]\n",
    "    return sharpe\n",
    "\n",
    "sharpe = get_sharpe(data, weights) # weights.sel(time=slice(\"2006-01-01\",None))\n",
    "```"
   ]
  },
  {
   "cell_type": "markdown",
   "metadata": {
    "pycharm": {
     "name": "#%% md\n"
    }
   },
   "source": [
    "# How do I get a list of the top 3 assets ranked by Sharpe ratio?\n",
    "\n",
    "```python\n",
    "import qnt.stats as qnstats\n",
    "\n",
    "data = qndata.stocks.load_ndx_data(tail = 17*365, dims = (\"time\", \"field\", \"asset\"))\n",
    "\n",
    "def get_best_instruments(data, weights, top_size):\n",
    "    # compute statistics:\n",
    "    stats_per_asset = qnstats.calc_stat(data, weights, per_asset=True)\n",
    "    # calculate ranks of assets by \"sharpe_ratio\":\n",
    "    ranks = (-stats_per_asset.sel(field=\"sharpe_ratio\")).rank(\"asset\")\n",
    "    # select top assets by rank \"top_period\" days ago:\n",
    "    top_period = 1\n",
    "    rank = ranks.isel(time=-top_period)\n",
    "    top = rank.where(rank <= top_size).dropna(\"asset\").asset\n",
    "\n",
    "    # select top stats:\n",
    "    top_stats = stats_per_asset.sel(asset=top.values)\n",
    "\n",
    "    # print results:\n",
    "    print(\"SR tail of the top assets:\")\n",
    "    display(top_stats.sel(field=\"sharpe_ratio\").to_pandas().tail())\n",
    "\n",
    "    print(\"avg SR = \", top_stats[-top_period:].sel(field=\"sharpe_ratio\").mean(\"asset\")[-1].item())\n",
    "    display(top_stats)\n",
    "    return top_stats.coords[\"asset\"].values\n",
    "\n",
    "get_best_instruments(data, weights, 3)\n",
    "```"
   ]
  },
  {
   "cell_type": "markdown",
   "metadata": {
    "pycharm": {
     "name": "#%% md\n"
    }
   },
   "source": [
    "# How can I check the results for only the top 3 assets ranked by Sharpe ratio?\n",
    "\n",
    "Select the top assets and then load their data:\n",
    "\n",
    "```python\n",
    "best_assets= get_best_instruments(data, weights, 3)\n",
    "\n",
    "data= qndata.stocks.load_ndx_data(tail = 17*365, assets=best_assets)\n",
    "```"
   ]
  },
  {
   "cell_type": "markdown",
   "metadata": {
    "pycharm": {
     "name": "#%% md\n"
    }
   },
   "source": [
    "# How can prices be processed?\n",
    "\n",
    "Simply import standard libraries, for example **numpy**:\n",
    "\n",
    "```python\n",
    "import numpy as np\n",
    "\n",
    "high= np.log(data.sel(field=\"high\"))\n",
    "```"
   ]
  },
  {
   "cell_type": "markdown",
   "metadata": {
    "pycharm": {
     "name": "#%% md\n"
    }
   },
   "source": [
    "# How can you reduce slippage impace when trading?\n",
    "\n",
    "Just apply some technique to reduce turnover:\n",
    "\n",
    "```python\n",
    "def get_lower_slippage(weights, rolling_time=6):\n",
    "    return weights.rolling({\"time\": rolling_time}).max()\n",
    "\n",
    "improved_weights = get_lower_slippage(weights, rolling_time=6)\n",
    "```"
   ]
  },
  {
   "cell_type": "markdown",
   "metadata": {
    "pycharm": {
     "name": "#%% md\n"
    }
   },
   "source": [
    "# How to use technical analysis indicators?\n",
    "\n",
    "For available indicators see the source code of the library: /qnt/ta\n",
    "\n",
    "## ATR\n",
    "\n",
    "```python\n",
    "def get_atr(data, days=14):\n",
    "    high = data.sel(field=\"high\") * 1.0 \n",
    "    low  = data.sel(field=\"low\") * 1.0 \n",
    "    close= data.sel(field=\"close\") * 1.0\n",
    "\n",
    "    return qnta.atr(high, low, close, days)\n",
    "\n",
    "atr= get_atr(data, days=14)\n",
    "```\n",
    "\n",
    "## EMA\n",
    "\n",
    "```python\n",
    "prices= data.sel(field=\"high\")\n",
    "prices_ema= qnta.ema(prices, 15)\n",
    "```\n",
    "\n",
    "## TRIX\n",
    "\n",
    "```python\n",
    "prices= data.sel(field=\"high\")\n",
    "prices_trix= qnta.trix(prices, 15)\n",
    "```\n",
    "\n",
    "## ADL and EMA\n",
    "\n",
    "```python\n",
    "close= data.sel(field=\"close\") * data.sel(field=\"is_liquid\")\n",
    "adl= qnta.ad_line(close) * 1.0\n",
    "adl_ema= qnta.ema(adl, 18)\n",
    "```"
   ]
  },
  {
   "cell_type": "markdown",
   "metadata": {
    "pycharm": {
     "name": "#%% md\n"
    }
   },
   "source": [
    "# How can you check the quality of your strategy?\n",
    "\n",
    "```python\n",
    "import qnt.output as qnout\n",
    "qnout.check(weights, data, \"stocks_nasdaq100\")\n",
    "```\n",
    "\n",
    "or\n",
    "\n",
    "```python\n",
    "stat= qnstats.calc_stat(data, weights)\n",
    "display(stat.to_pandas().tail())\n",
    "```\n",
    "\n",
    "or\n",
    "\n",
    "```python\n",
    "import qnt.graph   as qngraph\n",
    "statistics= qnstats.calc_stat(data, weights)\n",
    "display(statistics.to_pandas().tail())\n",
    "\n",
    "performance= statistics.to_pandas()[\"equity\"]\n",
    "qngraph.make_plot_filled(performance.index, performance, name=\"PnL (Equity)\", type=\"log\")\n",
    "\n",
    "display(statistics[-1:].sel(field = [\"sharpe_ratio\"]).transpose().to_pandas())\n",
    "qnstats.print_correlation(weights, data)\n",
    "\n",
    "```"
   ]
  },
  {
   "cell_type": "markdown",
   "metadata": {
    "pycharm": {
     "name": "#%% md\n"
    }
   },
   "source": [
    "# An example using pandas\n",
    "\n",
    "One can work with pandas DataFrames at intermediate steps and at the end convert them to xarray data structures:\n",
    "\n",
    "```python\n",
    "def get_price_pct_change(prices):\n",
    "    prices_pandas = prices.to_pandas()\n",
    "    assets = data.coords[\"asset\"].values\n",
    "    for asset in assets:\n",
    "        prices_pandas[asset] = prices_pandas[asset].pct_change()\n",
    "    return prices_pandas\n",
    "\n",
    "prices = data.sel(field=\"close\") * 1.0\n",
    "prices_pct_change = get_price_pct_change(prices).unstack().to_xarray()\n",
    "```"
   ]
  },
  {
   "cell_type": "markdown",
   "source": [
    "# Disable widget scrolling\n",
    "```javascript\n",
    "%%javascript\n",
    "window.IPython && (IPython.OutputArea.prototype._should_scroll = function(lines) { return false; })\n",
    "// disable widget scrolling\n",
    "```"
   ],
   "metadata": {
    "collapsed": false,
    "pycharm": {
     "name": "#%% md\n"
    }
   }
  },
  {
   "cell_type": "markdown",
   "metadata": {
    "pycharm": {
     "name": "#%% md\n"
    }
   },
   "source": [
    "# How can I combine datasets?\n",
    "\n",
    "Let us suppose that we want to use some Futures data as external indicators for taking positions on Nasdaq-100 stocks. This can easily be achieved as follows:\n",
    "\n",
    "```python\n",
    "import xarray as xr\n",
    "import numpy as np\n",
    "\n",
    "import qnt.backtester as qnbt\n",
    "import qnt.data as qndata\n",
    "import qnt.ta as qnta\n",
    "\n",
    "\n",
    "\n",
    "def load_data(period):\n",
    "    futures = qndata.futures.load_data(tail=period, assets=[\"F_DX\"]).isel(asset=0)\n",
    "    stocks  = qndata.stocks.load_ndx_data(tail=period)\n",
    "    return {\"futures\": futures, \"stocks\": stocks}, futures.time.values\n",
    "\n",
    "\n",
    "\n",
    "def window(data, max_date: np.datetime64, lookback_period: int):\n",
    "    min_date = max_date - np.timedelta64(lookback_period, \"D\")\n",
    "    return {\n",
    "        \"futures\": data[\"futures\"].sel(time=slice(min_date, max_date)),\n",
    "        \"stocks\":  data[\"stocks\"].sel(time=slice(min_date, max_date)),\n",
    "    }\n",
    "\n",
    "\n",
    "\n",
    "def strategy(data):\n",
    "    close_futures = data[\"futures\"].sel(field=\"close\")\n",
    "    close_stocks  = data[\"stocks\"].sel(field=\"close\")\n",
    "    sma20 = qnta.sma(close_futures, 20).isel(time=-1)\n",
    "    sma20_stocks = qnta.sma(close_stocks, 20).isel(time=-1)\n",
    "    is_liquid = data[\"stocks\"].sel(field=\"is_liquid\").isel(time=-1)\n",
    "    weights = xr.where(sma20 < sma20_stocks, 1, -1)\n",
    "    weights = weights * is_liquid \n",
    "    weights = weights / 100.0\n",
    "    return weights\n",
    "\n",
    "\n",
    "\n",
    "qnbt.backtest(\n",
    "    competition_type= \"stocks_nasdaq100\",\n",
    "    load_data= load_data,\n",
    "    lookback_period= 365,\n",
    "    start_date= \"2006-01-01\",\n",
    "    strategy= strategy,\n",
    "    window= window\n",
    ")\n",
    "\n",
    "```"
   ]
  },
  {
   "cell_type": "markdown",
   "metadata": {
    "pycharm": {
     "name": "#%% md\n"
    }
   },
   "source": [
    "# How to submit a strategy to the competition?\n",
    "\n",
    "Check that weights are fine:\n",
    "\n",
    "```python\n",
    "import qnt.output as qnout\n",
    "qnout.check(weights, data, \"stocks_nasdaq100\")\n",
    "```\n",
    "\n",
    "If everything is ok, write the weights to file:\n",
    "\n",
    "```python\n",
    "qnout.write(weights)\n",
    "```\n",
    "\n",
    "In your **personal account**:\n",
    "\n",
    "* **choose** a strategy;\n",
    "* click on the **Submit** button;\n",
    "* select the type of competition.\n",
    "\n",
    "At the beginning you will find the strategy under the **Checking** area:\n",
    "\n",
    "* **Sent strategies** > **Checking**. \n",
    "\n",
    "If technical checks are successful, the strategy will go under the **Candidates** area:\n",
    "\n",
    "* **Sent strategies** > **Candidates**. \n",
    "\n",
    "Otherwise it will be **Filtered**:\n",
    "\n",
    "* **Sent strategies** > **Filtered**\n",
    "\n",
    "and you should inspect error and warning messages. \n",
    "\n",
    "Note that a strategy under the **Candidates** area should have a Sharpe ratio larger than 1 for being eligible for a prize. Please check warning messages in your **Candidates** area!\n",
    "\n",
    "\n",
    "Please note that:\n",
    "\n",
    "* Your trading algorithm can open short and long positions.\n",
    "\n",
    "* At each point in time your algorithm can trade all or a subset of the stocks which at that point of time are or were part of the NASDAQ-100 stock index. Note that the composition of this set changes in time, and Quantiacs provides you with an appropriate filter function for selecting them.\n",
    "\n",
    "* The Sharpe ratio of your system since January 1st, 2006, has to be larger than 1.\n",
    "\n",
    "* Your system cannot be a copy of the current examples. We run a correlation filter on the submissions and detect duplicates.\n",
    "\n",
    "More details on the rules can be found [here](https://quantiacs.com/contest).\n"
   ]
  },
  {
   "cell_type": "markdown",
   "source": [
    "# How to find good parameters for my algorithm?\n",
    "\n",
    "See examples\n",
    "\n",
    "* Trading System Optimization\n",
    "* Trading System Optimization by Asset\n",
    "\n",
    "\n",
    "Read more on our [article](https://quantiacs.com/community/topic/29/optimizing-and-monitoring-a-trading-system-with-quantiacs).\n",
    "\n",
    "\n"
   ],
   "metadata": {
    "collapsed": false,
    "pycharm": {
     "name": "#%% md\n"
    }
   }
  },
  {
   "cell_type": "markdown",
   "source": [
    "# The main reasons for submission rejection\n",
    "\n",
    "[Detailed explanation with examples](https://quantiacs.com/documentation/en/user_guide/passFilters.html).\n",
    "\n",
    "## Missed call to write_output\n",
    "\n",
    "Save algorithm weights,  run code\n",
    "\n",
    "```python\n",
    "qnt.output.write(weights)\n",
    "```\n",
    "\n",
    "## Not eligible send to contest. In-Sample Sharpe must be larger than 1\n",
    "\n",
    "Improve your algorithm. Аor example, you can use sections and get an algorithm that will pass the filter\n",
    "\n",
    "* Example of a strategy using technical analysis indicators\n",
    "* How do I get a list of the top 3 assets ranked by Sharpe ratio?\n",
    "\n",
    "**Need help?** Check the [**Documentation**](https://quantiacs.com/documentation/en/) and find solutions/report problems in the [**Forum**](https://quantiacs.com/community/categories) section.\n",
    "\n",
    "\n",
    "## Not enough bid information.\n",
    "\n",
    "Run code\n",
    "\n",
    "```python\n",
    "min_time = weights.time[abs(weights).fillna(0).sum('asset')> 0].min()\n",
    "min_time\n",
    "```\n",
    "> min_time must be less than or equal to January 1, 2006.\n",
    "\n",
    "If min_time is larger than the starting date, we recommend to fill the starting values of the time series with non-vanishing values, for example a simple buy-and-hold strategy.\n",
    "\n",
    "```python\n",
    "def get_enough_bid_for(data_, weights_):\n",
    "    time_traded = weights_.time[abs(weights_).fillna(0).sum('asset') > 0]\n",
    "    is_strategy_traded = len(time_traded)\n",
    "    if is_strategy_traded:\n",
    "        return xr.where(weights_.time < time_traded.min(), data_.sel(field=\"is_liquid\"), weights_)\n",
    "    return weights_\n",
    "\n",
    "\n",
    "weights_new = get_enough_bid_for(data, weights)\n",
    "weights_new = weights_new.sel(time=slice(\"2006-01-01\",None))\n",
    "```\n"
   ],
   "metadata": {
    "collapsed": false,
    "pycharm": {
     "name": "#%% md\n"
    }
   }
  }
 ],
 "metadata": {
  "kernelspec": {
   "display_name": "Python 3",
   "language": "python",
   "name": "python3"
  },
  "language_info": {
   "codemirror_mode": {
    "name": "ipython",
    "version": 3
   },
   "file_extension": ".py",
   "mimetype": "text/x-python",
   "name": "python",
   "nbconvert_exporter": "python",
   "pygments_lexer": "ipython3",
   "version": "3.7.6"
  }
 },
 "nbformat": 4,
 "nbformat_minor": 4
}
